{
 "cells": [
  {
   "cell_type": "code",
   "execution_count": 2,
   "metadata": {},
   "outputs": [],
   "source": [
    "import os\n",
    "import time\n",
    "from glob import glob\n",
    "import requests\n",
    "from bs4 import BeautifulSoup\n",
    "from tqdm import tqdm\n",
    "data_dir = '/home/u00691/bimyogiri/data/'\n",
    "os.makedirs(data_dir, exist_ok=True)"
   ]
  },
  {
   "cell_type": "markdown",
   "metadata": {},
   "source": [
    "ちんすこう研究所"
   ]
  },
  {
   "cell_type": "code",
   "execution_count": 4,
   "metadata": {},
   "outputs": [],
   "source": [
    "chinsukoustudy_dir = os.path.join(data_dir, 'chinsukoustudy')\n",
    "raw_html_dir = os.path.join(chinsukoustudy_dir, \"raw_html\")\n",
    "os.makedirs(raw_html_dir, exist_ok=True)"
   ]
  },
  {
   "cell_type": "code",
   "execution_count": 5,
   "metadata": {},
   "outputs": [
    {
     "name": "stderr",
     "output_type": "stream",
     "text": [
      "100%|██████████| 13/13 [00:00<00:00, 4504.79it/s]\n"
     ]
    }
   ],
   "source": [
    "base_url = 'https://chinsukoustudy.com/og-top/og-summary/'\n",
    "num=13\n",
    "html_list = []\n",
    "\n",
    "for i in tqdm(range(1, num+1)):\n",
    "    filepath = os.path.join(raw_html_dir, f\"id-{i}.html\")\n",
    "    if not os.path.isfile(filepath):\n",
    "        page_url = base_url+f\"?cpage={i}\"\n",
    "        res = requests.get(page_url)\n",
    "        time.sleep(1)\n",
    "\n",
    "        with open(filepath, encoding=\"utf-8\", mode=\"w\") as fout:\n",
    "            fout.write(res.text)"
   ]
  },
  {
   "cell_type": "code",
   "execution_count": 40,
   "metadata": {},
   "outputs": [
    {
     "name": "stdout",
     "output_type": "stream",
     "text": [
      "start processing\n",
      "/home/u00691/bimyogiri/data/chinsukoustudy/raw_html/id-12.html 48\n",
      "/home/u00691/bimyogiri/data/chinsukoustudy/raw_html/id-1.html 50\n",
      "/home/u00691/bimyogiri/data/chinsukoustudy/raw_html/id-11.html 42\n",
      "/home/u00691/bimyogiri/data/chinsukoustudy/raw_html/id-7.html 50\n",
      "/home/u00691/bimyogiri/data/chinsukoustudy/raw_html/id-13.html 31\n",
      "/home/u00691/bimyogiri/data/chinsukoustudy/raw_html/id-2.html 50\n",
      "/home/u00691/bimyogiri/data/chinsukoustudy/raw_html/id-3.html 50\n",
      "/home/u00691/bimyogiri/data/chinsukoustudy/raw_html/id-6.html 50\n",
      "/home/u00691/bimyogiri/data/chinsukoustudy/raw_html/id-4.html 50\n",
      "/home/u00691/bimyogiri/data/chinsukoustudy/raw_html/id-5.html 50\n",
      "/home/u00691/bimyogiri/data/chinsukoustudy/raw_html/id-9.html 50\n",
      "/home/u00691/bimyogiri/data/chinsukoustudy/raw_html/id-8.html 50\n",
      "/home/u00691/bimyogiri/data/chinsukoustudy/raw_html/id-10.html 50\n",
      "621\n",
      "['【勝手に便乗】外食戦隊肉レンジャーの合体技ってどんな技？', '【勝手に便乗】外食戦隊肉レンジャーの敵ってどんなやつ？', '国会議員って国会議事堂で何してるの？']\n"
     ]
    }
   ],
   "source": [
    "print(\"start processing\")\n",
    "odai_list = []\n",
    "html_list = glob(os.path.join(raw_html_dir, 'id-*.html'))\n",
    "\n",
    "for i, html_name in enumerate(html_list):\n",
    "    soup = BeautifulSoup(open(html_name, 'r', encoding='utf-8').read(), \"lxml\")\n",
    "    entry_body = soup.find_all(class_=\"entry-body\")[0]\n",
    "    odai_extracted = list(filter(lambda x: '本目' in x.text, entry_body.find_all(\"p\")[3:])) # \n",
    "    print(f\"{html_name} {len(odai_extracted)}\")\n",
    "    odai_list.extend([x.text.strip().replace('「', '').replace('」', '').replace('『', '').replace('』', '').replace(' ', '').split('本目')[1] for x in odai_extracted])\n",
    "print(len(odai_list))\n",
    "print(odai_list[:3])\n",
    "\n",
    "with open(os.path.join(chinsukoustudy_dir, \"chinsukoustudy_odai.txt\"), \"w\", encoding=\"utf-8\") as f:\n",
    "    f.write(\"\\n\".join(odai_list))"
   ]
  },
  {
   "cell_type": "code",
   "execution_count": null,
   "metadata": {},
   "outputs": [],
   "source": []
  }
 ],
 "metadata": {
  "kernelspec": {
   "display_name": "Python 3.6.9 64-bit",
   "language": "python",
   "name": "python3"
  },
  "language_info": {
   "codemirror_mode": {
    "name": "ipython",
    "version": 3
   },
   "file_extension": ".py",
   "mimetype": "text/x-python",
   "name": "python",
   "nbconvert_exporter": "python",
   "pygments_lexer": "ipython3",
   "version": "3.6.9"
  },
  "orig_nbformat": 4,
  "vscode": {
   "interpreter": {
    "hash": "31f2aee4e71d21fbe5cf8b01ff0e069b9275f58929596ceb00d14d90e3e16cd6"
   }
  }
 },
 "nbformat": 4,
 "nbformat_minor": 2
}
